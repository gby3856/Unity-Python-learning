{
 "cells": [
  {
   "cell_type": "code",
   "execution_count": null,
   "id": "7dfb4dc5-be4b-4dec-bf5a-e1faaab9be19",
   "metadata": {},
   "outputs": [],
   "source": []
  },
  {
   "cell_type": "code",
   "execution_count": null,
   "id": "b9ad50d6-c761-4fc6-a0c9-80f11b25cb95",
   "metadata": {},
   "outputs": [
    {
     "name": "stdout",
     "output_type": "stream",
     "text": [
      "\n",
      "라면 끓이기 시뮬레이터 파이썬 버전에 오신 것을 환영합니다!\n",
      "\n",
      "재료와 냄비가 준비되었습니다!\n",
      "남은 재료 : ['물', '면', '스프', '파', '달걀', '후레이크']\n"
     ]
    },
    {
     "name": "stdin",
     "output_type": "stream",
     "text": [
      "\n",
      " 어떤 재료를 처음으로 넣으시겠습니까? 면\n"
     ]
    },
    {
     "name": "stdout",
     "output_type": "stream",
     "text": [
      "저런! 물부터 넣으셔야죠!\n",
      "\n",
      "처음부터 다시 하겠습니다!\n",
      "\n",
      "\n",
      "라면 끓이기 시뮬레이터 파이썬 버전에 오신 것을 환영합니다!\n",
      "\n",
      "재료와 냄비가 준비되었습니다!\n",
      "남은 재료 : ['물', '면', '스프', '파', '달걀', '후레이크']\n"
     ]
    },
    {
     "name": "stdin",
     "output_type": "stream",
     "text": [
      "\n",
      " 어떤 재료를 처음으로 넣으시겠습니까? 물\n"
     ]
    },
    {
     "name": "stdout",
     "output_type": "stream",
     "text": [
      "물 을(를) 사용하셨습니다!\n",
      "\n",
      "남은 재료 : ['면', '스프', '파', '달걀', '후레이크']\n"
     ]
    },
    {
     "name": "stdin",
     "output_type": "stream",
     "text": [
      "\n",
      " 다음은 어떤 재료를 넣으시겠습니까? 물\n"
     ]
    },
    {
     "name": "stdout",
     "output_type": "stream",
     "text": [
      "해당 재료는 존재하지 않습니다!\n"
     ]
    },
    {
     "name": "stdin",
     "output_type": "stream",
     "text": [
      "이어서 라면 재료를 투하해보시겠습니까? [Y/N] Y\n",
      "\n",
      " 다음은 어떤 재료를 넣으시겠습니까? 면\n"
     ]
    },
    {
     "name": "stdout",
     "output_type": "stream",
     "text": [
      "면 을(를) 사용하셨습니다!\n",
      "\n",
      "남은 재료 : ['스프', '파', '달걀', '후레이크']\n"
     ]
    },
    {
     "name": "stdin",
     "output_type": "stream",
     "text": [
      "다른 재료를 넣으시겠습니까? [Y/N] 파\n"
     ]
    },
    {
     "name": "stdout",
     "output_type": "stream",
     "text": [
      "답변이 잘못된 것 같습니다!\n"
     ]
    },
    {
     "name": "stdin",
     "output_type": "stream",
     "text": [
      "이어서 라면 재료를 투하해보시겠습니까? [Y/N] y\n",
      "\n",
      " 다음은 어떤 재료를 넣으시겠습니까? 파\n"
     ]
    },
    {
     "name": "stdout",
     "output_type": "stream",
     "text": [
      "파 을(를) 사용하셨습니다!\n",
      "\n",
      "남은 재료 : ['스프', '달걀', '후레이크']\n"
     ]
    },
    {
     "name": "stdin",
     "output_type": "stream",
     "text": [
      "다른 재료를 넣으시겠습니까? [Y/N] y\n",
      "\n",
      " 다음은 어떤 재료를 넣으시겠습니까? 스프\n"
     ]
    },
    {
     "name": "stdout",
     "output_type": "stream",
     "text": [
      "스프 을(를) 사용하셨습니다!\n",
      "\n",
      "남은 재료 : ['달걀', '후레이크']\n"
     ]
    },
    {
     "name": "stdin",
     "output_type": "stream",
     "text": [
      "다른 재료를 넣으시겠습니까? [Y/N] Y\n",
      "\n",
      " 다음은 어떤 재료를 넣으시겠습니까? \n"
     ]
    },
    {
     "name": "stdout",
     "output_type": "stream",
     "text": [
      "해당 재료는 존재하지 않습니다!\n"
     ]
    },
    {
     "name": "stdin",
     "output_type": "stream",
     "text": [
      "이어서 라면 재료를 투하해보시겠습니까? [Y/N] y\n",
      "\n",
      " 다음은 어떤 재료를 넣으시겠습니까? 후레이크\n"
     ]
    },
    {
     "name": "stdout",
     "output_type": "stream",
     "text": [
      "후레이크 을(를) 사용하셨습니다!\n",
      "\n",
      "남은 재료 : ['달걀']\n"
     ]
    },
    {
     "name": "stdin",
     "output_type": "stream",
     "text": [
      "다른 재료를 넣으시겠습니까? [Y/N] Y\n",
      "\n",
      " 다음은 어떤 재료를 넣으시겠습니까? 달걀\n"
     ]
    },
    {
     "name": "stdout",
     "output_type": "stream",
     "text": [
      "달걀 을(를) 사용하셨습니다!\n",
      "\n",
      "남은 재료 : []\n"
     ]
    },
    {
     "name": "stdin",
     "output_type": "stream",
     "text": [
      "다른 재료를 넣으시겠습니까? [Y/N] Y\n"
     ]
    },
    {
     "name": "stdout",
     "output_type": "stream",
     "text": [
      "\n",
      "재료가 모두 소진 되었습니다!\n",
      "라면 끓이기 시뮬레이터를 종료합니다. 라면 맛있게 드세요!\n",
      "\n",
      "라면 끓이기 시뮬레이터 파이썬 버전에 오신 것을 환영합니다!\n",
      "\n",
      "재료와 냄비가 준비되었습니다!\n",
      "남은 재료 : ['물', '면', '스프', '파', '달걀', '후레이크']\n"
     ]
    },
    {
     "name": "stdin",
     "output_type": "stream",
     "text": [
      "\n",
      " 어떤 재료를 처음으로 넣으시겠습니까? 물\n"
     ]
    },
    {
     "name": "stdout",
     "output_type": "stream",
     "text": [
      "물 을(를) 사용하셨습니다!\n",
      "\n",
      "남은 재료 : ['면', '스프', '파', '달걀', '후레이크']\n"
     ]
    },
    {
     "name": "stdin",
     "output_type": "stream",
     "text": [
      "\n",
      " 다음은 어떤 재료를 넣으시겠습니까? 스테이크\n"
     ]
    },
    {
     "name": "stdout",
     "output_type": "stream",
     "text": [
      "해당 재료는 존재하지 않습니다!\n"
     ]
    },
    {
     "name": "stdin",
     "output_type": "stream",
     "text": [
      "이어서 라면 재료를 투하해보시겠습니까? [Y/N] 아니오\n"
     ]
    },
    {
     "name": "stdout",
     "output_type": "stream",
     "text": [
      "입력된 답변이 적절하지 않습니다. 대화하기 싫으신 것으로 간주하고, 시뮬레이터를 종료하겠습니다.\n",
      "\n",
      "라면 끓이기 시뮬레이터 파이썬 버전에 오신 것을 환영합니다!\n",
      "\n",
      "재료와 냄비가 준비되었습니다!\n",
      "남은 재료 : ['물', '면', '스프', '파', '달걀', '후레이크']\n"
     ]
    },
    {
     "name": "stdin",
     "output_type": "stream",
     "text": [
      "\n",
      " 어떤 재료를 처음으로 넣으시겠습니까? 물\n"
     ]
    },
    {
     "name": "stdout",
     "output_type": "stream",
     "text": [
      "물 을(를) 사용하셨습니다!\n",
      "\n",
      "남은 재료 : ['면', '스프', '파', '달걀', '후레이크']\n"
     ]
    },
    {
     "name": "stdin",
     "output_type": "stream",
     "text": [
      "\n",
      " 다음은 어떤 재료를 넣으시겠습니까? 파\n"
     ]
    },
    {
     "name": "stdout",
     "output_type": "stream",
     "text": [
      "파 을(를) 사용하셨습니다!\n",
      "\n",
      "남은 재료 : ['면', '스프', '달걀', '후레이크']\n"
     ]
    },
    {
     "name": "stdin",
     "output_type": "stream",
     "text": [
      "다른 재료를 넣으시겠습니까? [Y/N] 예\n"
     ]
    },
    {
     "name": "stdout",
     "output_type": "stream",
     "text": [
      "답변이 잘못된 것 같습니다!\n"
     ]
    },
    {
     "name": "stdin",
     "output_type": "stream",
     "text": [
      "이어서 라면 재료를 투하해보시겠습니까? [Y/N] y\n",
      "\n",
      " 다음은 어떤 재료를 넣으시겠습니까? 스프\n"
     ]
    },
    {
     "name": "stdout",
     "output_type": "stream",
     "text": [
      "스프 을(를) 사용하셨습니다!\n",
      "\n",
      "남은 재료 : ['면', '달걀', '후레이크']\n"
     ]
    },
    {
     "name": "stdin",
     "output_type": "stream",
     "text": [
      "다른 재료를 넣으시겠습니까? [Y/N] n\n"
     ]
    },
    {
     "name": "stdout",
     "output_type": "stream",
     "text": [
      "\n",
      "라면 끓이기 시뮬레이터를 종료합니다. 다른 맛있는거 드시던지 마시던지 흥\n",
      "\n",
      "라면 끓이기 시뮬레이터 파이썬 버전에 오신 것을 환영합니다!\n",
      "\n",
      "재료와 냄비가 준비되었습니다!\n",
      "남은 재료 : ['물', '면', '스프', '파', '달걀', '후레이크']\n"
     ]
    },
    {
     "name": "stdin",
     "output_type": "stream",
     "text": [
      "\n",
      " 어떤 재료를 처음으로 넣으시겠습니까? 물\n"
     ]
    },
    {
     "name": "stdout",
     "output_type": "stream",
     "text": [
      "물 을(를) 사용하셨습니다!\n",
      "\n",
      "남은 재료 : ['면', '스프', '파', '달걀', '후레이크']\n"
     ]
    },
    {
     "name": "stdin",
     "output_type": "stream",
     "text": [
      "\n",
      " 다음은 어떤 재료를 넣으시겠습니까? 스프\n"
     ]
    },
    {
     "name": "stdout",
     "output_type": "stream",
     "text": [
      "스프 을(를) 사용하셨습니다!\n",
      "\n",
      "남은 재료 : ['면', '파', '달걀', '후레이크']\n"
     ]
    },
    {
     "name": "stdin",
     "output_type": "stream",
     "text": [
      "다른 재료를 넣으시겠습니까? [Y/N] y\n",
      "\n",
      " 다음은 어떤 재료를 넣으시겠습니까? 후레이크\n"
     ]
    },
    {
     "name": "stdout",
     "output_type": "stream",
     "text": [
      "후레이크 을(를) 사용하셨습니다!\n",
      "\n",
      "남은 재료 : ['면', '파', '달걀']\n"
     ]
    },
    {
     "name": "stdin",
     "output_type": "stream",
     "text": [
      "다른 재료를 넣으시겠습니까? [Y/N] 예\n"
     ]
    },
    {
     "name": "stdout",
     "output_type": "stream",
     "text": [
      "답변이 잘못된 것 같습니다!\n"
     ]
    },
    {
     "name": "stdin",
     "output_type": "stream",
     "text": [
      "이어서 라면 재료를 투하해보시겠습니까? [Y/N] 어\n"
     ]
    },
    {
     "name": "stdout",
     "output_type": "stream",
     "text": [
      "답변이 2회 이상 잘못입력되어 보안 프로토콜이 작동 되었습니다. 시뮬레이터를 종료합니다.\n",
      "\n",
      "라면 끓이기 시뮬레이터 파이썬 버전에 오신 것을 환영합니다!\n",
      "\n",
      "재료와 냄비가 준비되었습니다!\n",
      "남은 재료 : ['물', '면', '스프', '파', '달걀', '후레이크']\n"
     ]
    }
   ],
   "source": [
    "while True:\n",
    "    #재료 소진 시 아예 처음부터 라면 끓이기를 할 수 있도록 구성했습니다.\n",
    "    print(f\"\\n라면 끓이기 시뮬레이터 파이썬 버전에 오신 것을 환영합니다!\\n\") #시뮬레이터 게임임을 소개합니다.\n",
    "    ingredients=[\"물\",\"면\",\"스프\",\"파\",\"달걀\",\"후레이크\"] #라면 끓이기에 사용할 수 있는 재료 목록입니다.\n",
    "    print(f'재료와 냄비가 준비되었습니다!')\n",
    "    print(f'남은 재료 : {ingredients}')\n",
    "    used=[] #처음 재료로 물을 넣었는지 확인하기 위해 처음으로 선택한 식재료를 보관하는 리스트입니다.\n",
    "    choice = input('\\n 어떤 재료를 처음으로 넣으시겠습니까?') #처음에 넣을 재료가 물인지 아닌지만 판단하기 위해 초반부에 입력을 받습니다.\n",
    "    used.append(choice) #사용한 재료를 리스트에 넣습니다.\n",
    "\n",
    "    #만약 처음 사용한 재료가 물이 아니라면 강제로 처음부터 다시 시작합니다.\n",
    "    if used[0]!=ingredients[0]:\n",
    "        print(f\"저런! 물부터 넣으셔야죠!\\n\")\n",
    "        print(f\"처음부터 다시 하겠습니다!\\n\")\n",
    "        continue\n",
    "\n",
    "    else: #물을 사용 했다면 물을 사용했다고 안내합니다.\n",
    "        print(f\"%s 을(를) 사용하셨습니다!\"%(choice))\n",
    "        ingredients.remove(choice) #사용한 첫 번째 재료인 물을 choice 변수에 담아 해당 요소를 리스트에서 삭제합니다.\n",
    "        print(f'\\n남은 재료 : {ingredients}')\n",
    "        while True:\n",
    "            if len(ingredients) == 0: #라면의 재료가 소진 되었는지를 다음 재료를 넣겠냐는 질문 다음 바로 판정할 수 있도록 위쪽 행에 배치했습니다.\n",
    "                #재료가 모두 소진되면 시뮬레이터를 종료합니다.\n",
    "                print(f\"\\n재료가 모두 소진 되었습니다!\")\n",
    "                print(f\"라면 끓이기 시뮬레이터를 종료합니다. 라면 맛있게 드세요!\")\n",
    "                break\n",
    "                \n",
    "            ingre_choice=input('\\n 다음은 어떤 재료를 넣으시겠습니까?')\n",
    "\n",
    "            if ingre_choice in ingredients: #입력한 재료가 리스트에 있는지 판단합니다.\n",
    "                ingredients.remove(ingre_choice) #재료가 있다면 리스트에서 해당 재료를 삭제합니다.(.remove는 구글에 검색해봤습니다.)\n",
    "                print(f'%s 을(를) 사용하셨습니다!'%(ingre_choice))\n",
    "                print(f'\\n남은 재료 : {ingredients}')\n",
    "\n",
    "                #남은 재료를 계속 투하할 것인지 질문합니다.\n",
    "                continue_or_break = input(\"다른 재료를 넣으시겠습니까? [Y/N]\")\n",
    "                if continue_or_break == 'Y' or continue_or_break=='y':\n",
    "                    continue\n",
    "                elif continue_or_break == 'N' or continue_or_break == 'n':\n",
    "                    #해당 라면 끓이기 시뮬레이터는 MBTI가 F로 설계되었습니다.\n",
    "                    #따라서 라면재료를 모두 소진하지 않고 중간에 시뮬레이터를 종료하게 되면 \n",
    "                    #열심히 재료를 준비한 시뮬레이터가 감정이 상해 삐지게 되고 시뮬레이터를 종료하게 됩니다.\n",
    "                    print(f\"\\n라면 끓이기 시뮬레이터를 종료합니다. 다른 맛있는거 드시던지 마시던지 흥\")\n",
    "                    break\n",
    "                else:\n",
    "                    print(f'답변이 잘못된 것 같습니다!')\n",
    "                    y_or_n = input(\"이어서 라면 재료를 투하해보시겠습니까? [Y/N]\")\n",
    "                    if y_or_n == 'Y' or y_or_n=='y':\n",
    "                        continue\n",
    "                    elif y_or_n =='N' or y_or_n=='n':\n",
    "                        print(f\"\\n라면 끓이기 시뮬레이터를 종료합니다. 다른 맛있는거 드시던지 마시던지 흥\")\n",
    "                        break\n",
    "                    else:\n",
    "                        #사실 보안 프로토콜은 없지만 시뮬레이터에는 있다고 가정했습니다.\n",
    "                        print(f\"답변이 2회 이상 잘못입력되어 보안 프로토콜이 작동 되었습니다. 시뮬레이터를 종료합니다.\")\n",
    "                        break\n",
    "                        \n",
    "                        \n",
    "            else: #입력한 재료가 리스트에 없다면 잘못된 재료를 입력한 직후부터 이어서 라면을 끓일 것인지 질문합니다.\n",
    "                print(f'해당 재료는 존재하지 않습니다!')\n",
    "                y_or_n_1 = input(\"이어서 라면 재료를 투하해보시겠습니까? [Y/N]\")\n",
    "                if y_or_n_1 == 'Y' or y_or_n_1=='y':\n",
    "                    continue\n",
    "                elif y_or_n_1 =='N' or y_or_n_1=='n':\n",
    "                    \n",
    "                    print(f\"라면 끓이기 시뮬레이터를 종료합니다. 다른 맛있는거 드시던지 마시던지 흥\") \n",
    "                    break\n",
    "                else:\n",
    "                    #대답이 적절하지 않으면 시뮬레이터를 종료합니다.\n",
    "                    print(f\"입력된 답변이 적절하지 않습니다. 대화하기 싫으신 것으로 간주하고, 시뮬레이터를 종료하겠습니다.\")\n",
    "                    break"
   ]
  },
  {
   "cell_type": "markdown",
   "id": "7af60f81-c8cc-477c-9c9f-517968d070f8",
   "metadata": {},
   "source": [
    "저는 평소에 라면을 굉장히 좋아합니다. 파이썬 과제가 자유주제였기에 주제에 대해서 줄곧 고민하던 저는\n",
    "오늘 새벽 3시경 잘못된 수면패턴으로 인해 갑자기 허기를 느껴 일어나게 되었고, 가쓰오 우동을 끓여먹던 중\n",
    "문득 '스프부터 넣을까? 면부터 넣을까?'라는 질문을 스스로에게 하게 되었습니다.\n",
    "그러다가 저는 깨달았습니다. '물'을 무조건 먼저 넣어야한다는 사실이었습니다. 그렇지 않으면 우동땅 과자가 되고 말 것이기 때문입니다.\n",
    "해당 아이디어에서 출발해 제가 라면을 끓일 때 일어나는 제 사고과정을 프로그램으로 만들어보자는 생각에 도달했습니다.\n",
    "물론 중간 중간에 '어느 시점에 재료를 넣어야겠다'라는 사고를 하긴 하지만 그것까지 구현하기엔 무리가 있을 것 같아\n",
    "제가 구현할 수 있는 선에서 라면 끓이기 시뮬레이터 프로그램을 작성하게 되었습니다.\n",
    "\n",
    "가장 중요한 포인트는 물을 먼저 넣어야 시뮬레이터가 전체 정상 동작하도록 구현 했으며 재료명이 잘못되거나\n",
    "네 또는 아니오 형 질문에 대답이 잘못될 경우 가상의 보안 프로토콜이 작동해 프로그램이 종료된다는 것입니다.\n",
    "또, 사용한 재료는 소진 되도록 구현해 남은 재료들로 구성할 수 있도록 작성했습니다.\n",
    "\n",
    "그리고 제 사고과정을 담은 프로그램이기 때문에 MBTI가 F인 제 성격에 기반해서 라면 재료 투하를 중간에 그만둬버리면 감정이 상했다고 표현하도록 구현했습니다.\n",
    "\n",
    "부디 해당 감정표현 부분이 장난이나 건방짐으로 느껴지셨다면 진심으로 사과드립니다.\n",
    "제 사고 과정을 구현해보는 과정에서 만약 제가 시뮬레이터였다면\n",
    "사용자가 제가 열심히 준비한 라면 재료를 사용하지 않고 그만뒀을 때 감정이 상했을 것이라고 판단해\n",
    "이런식으로 구현하게 되었습니다."
   ]
  }
 ],
 "metadata": {
  "kernelspec": {
   "display_name": "Python 3 (ipykernel)",
   "language": "python",
   "name": "python3"
  },
  "language_info": {
   "codemirror_mode": {
    "name": "ipython",
    "version": 3
   },
   "file_extension": ".py",
   "mimetype": "text/x-python",
   "name": "python",
   "nbconvert_exporter": "python",
   "pygments_lexer": "ipython3",
   "version": "3.12.7"
  }
 },
 "nbformat": 4,
 "nbformat_minor": 5
}
